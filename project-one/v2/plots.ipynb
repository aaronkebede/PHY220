{
 "cells": [
  {
   "cell_type": "code",
   "execution_count": 21,
   "id": "51bae91e-97db-46b5-87b8-9bbc2582b47b",
   "metadata": {},
   "outputs": [],
   "source": [
    "#Import packages\n",
    "\n",
    "import numpy as np\n",
    "import pandas as pd\n",
    "import matplotlib.pyplot as plt\n",
    "from lmfit import Model, Parameters\n",
    "import matplotlib.font_manager\n",
    "from matplotlib.pyplot import figure\n",
    "plt.rcParams.update({'font.size': 18})\n",
    "plt.rcParams.update({\n",
    "    \"text.usetex\": True,\n",
    "    \"font.weight\": \"bold\",\n",
    "    \"font.family\": \"serif\",\n",
    "    \"font.sans-serif\": [\"Helvetica\"]})"
   ]
  },
  {
   "cell_type": "code",
   "execution_count": 22,
   "id": "e3cbf858-e691-467d-9e96-6233c627a537",
   "metadata": {},
   "outputs": [
    {
     "ename": "SyntaxError",
     "evalue": "invalid syntax (1854865785.py, line 1)",
     "output_type": "error",
     "traceback": [
      "\u001b[0;36m  File \u001b[0;32m\"/tmp/ipykernel_27389/1854865785.py\"\u001b[0;36m, line \u001b[0;32m1\u001b[0m\n\u001b[0;31m    Load data\u001b[0m\n\u001b[0m         ^\u001b[0m\n\u001b[0;31mSyntaxError\u001b[0m\u001b[0;31m:\u001b[0m invalid syntax\n"
     ]
    }
   ],
   "source": [
    "Load data\n",
    "\n",
    "FA   = pd.read_csv(\"Readings/CSV/Frequency-Amplitude.csv\") \n",
    "FP   = pd.read_csv(\"Readings/CSV/Frequency-PhaseShift.csv\")\n",
    "LFA  = pd.read_csv(\"Readings/CSV/LockIn-Frequency-Amplitude.csv\")\n",
    "LFP  = pd.read_csv(\"Readings/CSV/LockIn-Frequency-PhaseShift.csv\")"
   ]
  },
  {
   "cell_type": "code",
   "execution_count": 23,
   "id": "045a5f56-9f5b-41ab-aff6-97f3c19741e3",
   "metadata": {},
   "outputs": [],
   "source": [
    "#load the data into arrays so we can make our lives easier\n",
    "\n",
    "FA   = np.array(FA) \n",
    "FP   = np.array(FP)\n",
    "LFA  = np.array(LFA)\n",
    "LFP  = np.array(LFP)"
   ]
  },
  {
   "cell_type": "code",
   "execution_count": null,
   "id": "dd8a0076-f3f7-4cb3-bb86-6dc77bfaff34",
   "metadata": {},
   "outputs": [],
   "source": [
    "#Define axes for the plots\n",
    "\n",
    "# Nomenclature:\n",
    "# - Amplitude vs Frequency plots will have the 'fa' prefix\n",
    "# - Phase Shift vs Frequency plots will have the 'fp'\n",
    "\n",
    "fa_frequency = FA[0:.]\n",
    "fa_amplitude =\n"
   ]
  },
  {
   "cell_type": "code",
   "execution_count": null,
   "id": "88f4c715-4c7b-4fcf-a8dc-d74fb58ee1d7",
   "metadata": {},
   "outputs": [],
   "source": []
  }
 ],
 "metadata": {
  "kernelspec": {
   "display_name": "Python 3 (ipykernel)",
   "language": "python",
   "name": "python3"
  },
  "language_info": {
   "codemirror_mode": {
    "name": "ipython",
    "version": 3
   },
   "file_extension": ".py",
   "mimetype": "text/x-python",
   "name": "python",
   "nbconvert_exporter": "python",
   "pygments_lexer": "ipython3",
   "version": "3.8.8"
  }
 },
 "nbformat": 4,
 "nbformat_minor": 5
}
