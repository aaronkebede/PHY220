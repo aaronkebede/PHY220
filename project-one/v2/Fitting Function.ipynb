{
 "cells": [
  {
   "cell_type": "code",
   "execution_count": 23,
   "id": "a0953a75-872e-4747-81ad-9bea835bcdfe",
   "metadata": {},
   "outputs": [],
   "source": [
    "#Import packages\n",
    "import numpy as np\n",
    "import pandas as pd\n",
    "from lmfit import Model, Parameters\n",
    "import matplotlib.pyplot as plt\n",
    "from lmfit import Model, Parameters\n",
    "import matplotlib.font_manager\n",
    "from matplotlib.pyplot import figure\n",
    "plt.rcParams.update({'font.size': 18})\n",
    "plt.rcParams.update({\n",
    "    \"text.usetex\": True,\n",
    "    \"font.weight\": \"bold\",\n",
    "    \"font.family\": \"serif\",\n",
    "    \"font.sans-serif\": [\"Helvetica\"]})"
   ]
  },
  {
   "cell_type": "code",
   "execution_count": 24,
   "id": "9b42a720-c240-4037-b69a-548594e5c7ad",
   "metadata": {},
   "outputs": [],
   "source": [
    "#import data, load data into arrays and define axes \n",
    "\n",
    "FA   = pd.read_csv(\"Readings/CSV/Frequency-Amplitude.csv\") \n",
    "FP   = pd.read_csv(\"Readings/CSV/Frequency-PhaseShift.csv\")\n",
    "LFA  = pd.read_csv(\"Readings/CSV/LockIn-Frequency-Amplitude.csv\")\n",
    "LFP  = pd.read_csv(\"Readings/CSV/LockIn-Frequency-PhaseShift.csv\")\n",
    "\n",
    "FA   = np.array(FA) \n",
    "FP   = np.array(FP)\n",
    "LFA  = np.array(LFA)\n",
    "LFP  = np.array(LFP)\n",
    "\n",
    "fa_frequency   = FA[:,2]\n",
    "fa_amplitude   = FA[:,1]\n",
    "fp_frequency   = FP[:,2]\n",
    "fp_phaseshift  = FP[:,1]\n",
    "lfa_frequency  = LFA[:,2]\n",
    "lfa_amplitude  = LFA[:,1]\n",
    "lfp_frequency  = LFP[:,2]\n",
    "lfp_phaseshift = LFP[:,1]\n"
   ]
  },
  {
   "cell_type": "code",
   "execution_count": 25,
   "id": "0e0da3d4-5341-40fd-b3a2-64cbcdf4c7d4",
   "metadata": {},
   "outputs": [],
   "source": [
    "# Define functions\n",
    "\n",
    "def Filter(freq,R,C):\n",
    "    omega = 2*np.pi*freq\n",
    "    vout=( 1./(1j*R*omega*C+1.))\n",
    "    return(vout)"
   ]
  },
  {
   "cell_type": "code",
   "execution_count": 31,
   "id": "7adc1248-9ad1-4a40-a94b-f8ca681c0134",
   "metadata": {},
   "outputs": [],
   "source": [
    "#Define constants in our circuit\n",
    "\n",
    "C = 0.022e-6 # 0.022 microFarads\n",
    "R = 1.5e6 # 1.5 megaOhms"
   ]
  },
  {
   "cell_type": "code",
   "execution_count": 27,
   "id": "fbdf2eb8-dbd6-4c24-84f8-1f8ead6b248d",
   "metadata": {},
   "outputs": [
    {
     "name": "stdout",
     "output_type": "stream",
     "text": [
      "Filter cut off frequency is:    4.82 Hz\n"
     ]
    }
   ],
   "source": [
    "f = np.linspace(10,10000,1000)\n",
    "vout_c = Filter(f,R,C)\n",
    "F_cut = 1./(2.*np.pi*R*C)\n",
    "print(\"Filter cut off frequency is: {:7.2f} Hz\".format(F_cut))"
   ]
  },
  {
   "cell_type": "code",
   "execution_count": 30,
   "id": "1f60e4af-c6a7-486d-a464-a03732f0e4d7",
   "metadata": {},
   "outputs": [],
   "source": [
    "# Create a fitting model\n",
    "\n",
    "fit = Model(Filter)\n",
    "params = Parameters()\n"
   ]
  },
  {
   "cell_type": "code",
   "execution_count": 28,
   "id": "6885c0a0-174e-46f3-83a5-93b52d95f61f",
   "metadata": {},
   "outputs": [
    {
     "data": {
      "text/plain": [
       "(10.0, 40.0)"
      ]
     },
     "execution_count": 28,
     "metadata": {},
     "output_type": "execute_result"
    },
    {
     "data": {
      "image/png": "[encoded data removed]",
      "text/plain": [
       "<Figure size 432x288 with 1 Axes>"
      ]
     },
     "metadata": {
      "needs_background": "light"
     },
     "output_type": "display_data"
    }
   ],
   "source": [
    "plt.plot(f,np.abs(vout_c))\n",
    "plt.plot(lfa_frequency,lfa_amplitude, c=\"crimson\", ls='dotted')\n",
    "plt.xlim(10,40)\n",
    "\n"
   ]
  },
  {
   "cell_type": "code",
   "execution_count": null,
   "id": "1a296b8c-2501-4b91-aa8e-ac4a6b458e85",
   "metadata": {},
   "outputs": [],
   "source": []
  }
 ],
 "metadata": {
  "kernelspec": {
   "display_name": "Python 3 (ipykernel)",
   "language": "python",
   "name": "python3"
  },
  "language_info": {
   "codemirror_mode": {
    "name": "ipython",
    "version": 3
   },
   "file_extension": ".py",
   "mimetype": "text/x-python",
   "name": "python",
   "nbconvert_exporter": "python",
   "pygments_lexer": "ipython3",
   "version": "3.8.8"
  }
 },
 "nbformat": 4,
 "nbformat_minor": 5
}
