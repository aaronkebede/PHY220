{
 "cells": [
  {
   "cell_type": "code",
   "execution_count": 1,
   "id": "a0953a75-872e-4747-81ad-9bea835bcdfe",
   "metadata": {},
   "outputs": [],
   "source": [
    "#Import packages\n",
    "import math\n",
    "import numpy as np\n",
    "import pandas as pd\n",
    "from lmfit import Model, Parameters\n",
    "import matplotlib.pyplot as plt\n",
    "from lmfit import Model, Parameters\n",
    "import matplotlib.font_manager\n",
    "from matplotlib.pyplot import figure\n",
    "plt.rcParams.update({'font.size': 18})\n",
    "plt.rcParams.update({\n",
    "    \"text.usetex\": True,\n",
    "    \"font.weight\": \"bold\",\n",
    "    \"font.family\": \"serif\",\n",
    "    \"font.sans-serif\": [\"Helvetica\"]})"
   ]
  },
  {
   "cell_type": "code",
   "execution_count": 2,
   "id": "9b42a720-c240-4037-b69a-548594e5c7ad",
   "metadata": {},
   "outputs": [],
   "source": [
    "#import data, load data into arrays and define axes \n",
    "\n",
    "FA   = pd.read_csv(\"Readings/CSV/Frequency-Amplitude.csv\") \n",
    "FP   = pd.read_csv(\"Readings/CSV/Frequency-PhaseShift.csv\")\n",
    "LFA  = pd.read_csv(\"Readings/CSV/LockIn-Frequency-Amplitude.csv\")\n",
    "LFP  = pd.read_csv(\"Readings/CSV/LockIn-Frequency-PhaseShift.csv\")\n",
    "\n",
    "FA   = np.array(FA) \n",
    "FP   = np.array(FP)\n",
    "LFA  = np.array(LFA)\n",
    "LFP  = np.array(LFP)\n",
    "\n",
    "fa_frequency   = FA[:,2]\n",
    "fa_amplitude   = FA[:,1]\n",
    "fp_frequency   = FP[:,2]\n",
    "fp_phaseshift  = FP[:,1]\n",
    "lfa_frequency  = LFA[:,2]\n",
    "lfa_amplitude  = LFA[:,1]\n",
    "lfp_frequency  = LFP[:,2]\n",
    "lfp_phaseshift = LFP[:,1]\n"
   ]
  },
  {
   "cell_type": "code",
   "execution_count": 3,
   "id": "0e0da3d4-5341-40fd-b3a2-64cbcdf4c7d4",
   "metadata": {},
   "outputs": [],
   "source": [
    "# Define functions\n",
    "\n",
    "def Filter(freq,R,C):\n",
    "    omega = 2*np.pi*freq\n",
    "    vout=( 1./(1j*R*omega*C+1.))\n",
    "    return(vout)"
   ]
  },
  {
   "cell_type": "code",
   "execution_count": 4,
   "id": "7adc1248-9ad1-4a40-a94b-f8ca681c0134",
   "metadata": {},
   "outputs": [],
   "source": [
    "#Define constants in our circuit\n",
    "\n",
    "C = 0.022e-6 # 0.022 microFarads\n",
    "R = 1.5e6 # 1.5 megaOhms\n",
    "tau = R*C # We calculate the time constant since we need it all over our plots"
   ]
  },
  {
   "cell_type": "code",
   "execution_count": 46,
   "id": "fbdf2eb8-dbd6-4c24-84f8-1f8ead6b248d",
   "metadata": {},
   "outputs": [
    {
     "name": "stdout",
     "output_type": "stream",
     "text": [
      "Filter cut off frequency is:    4.82 Hz\n"
     ]
    }
   ],
   "source": [
    "f = np.linspace(10,10000,1000)\n",
    "vout_c = Filter(f,R,C)\n",
    "F_cut = 1./(2.*np.pi*R*C)\n",
    "print(\"Filter cut off frequency is: {:7.2f} Hz\".format(F_cut))"
   ]
  },
  {
   "cell_type": "code",
   "execution_count": 50,
   "id": "d5299b23-c13d-48fa-844b-2b7a3dd88f73",
   "metadata": {},
   "outputs": [],
   "source": [
    "def graph(formula, x_range):  \n",
    "    x = np.array(x_range)  \n",
    "    y = formula(x)# <- note now we're calling the function 'formula' with x\n",
    "    \n",
    "  #  plt.plot(x, y)  \n",
    "  #  plt.show() \n",
    "\n",
    "def amplitude_fit(x):\n",
    "    value = 320/np.sqrt(1+(2*np.pi*tau*x)**2)\n",
    "    return value\n",
    "\n",
    "graph(amplitude_fit, range(0, 100000))\n",
    "\n",
    "def phase_shift_fit(x):\n",
    "    ps_value = -180/pi*np.arctan(2*np.pi*tau*x)\n",
    "    return ps_value"
   ]
  },
  {
   "cell_type": "code",
   "execution_count": 51,
   "id": "9b9c03f3-ec81-4ab0-a19f-63685c47d27f",
   "metadata": {},
   "outputs": [],
   "source": [
    "def Amplitude_of_Filter(x,amp,tau):\n",
    "    lfa_amplitude=amp/np.sqrt(1+(2*np.pi*tau*x)**2)\n",
    "    return lfa_amplitude"
   ]
  },
  {
   "cell_type": "code",
   "execution_count": 52,
   "id": "83c6a8d2-c502-44ed-9fe8-6a77509f78f8",
   "metadata": {},
   "outputs": [],
   "source": [
    "amp_model = Model(Amplitude_of_Filter)"
   ]
  },
  {
   "cell_type": "code",
   "execution_count": 53,
   "id": "deb0a070-40ab-4f3d-931f-c6ca68bd3807",
   "metadata": {},
   "outputs": [
    {
     "name": "stdout",
     "output_type": "stream",
     "text": [
      "Independent vars:  ['x']\n",
      "Parameters:  ['amp', 'tau']\n"
     ]
    }
   ],
   "source": [
    "print (\"Independent vars: \", amp_model.independent_vars) #print out to confirm what we just did\n",
    "print (\"Parameters: \", amp_model.param_names)\n"
   ]
  },
  {
   "cell_type": "code",
   "execution_count": 54,
   "id": "564190bc-c371-47c9-8108-318b8a990f50",
   "metadata": {},
   "outputs": [],
   "source": [
    "p = Parameters()\n",
    "p.add_many(('amp', lfa_amplitude.mean(), True, 0, lfa_amplitude.max(), None), # params for first fit, \n",
    "           ('tau', tau, False, None, None, None))"
   ]
  },
  {
   "cell_type": "code",
   "execution_count": 55,
   "id": "02c80bf6-1454-4064-afad-9259ef9e3f26",
   "metadata": {},
   "outputs": [],
   "source": [
    "result = amp_model.fit(lfa_amplitude, x=lfa_frequency, params=p, weights = None )"
   ]
  },
  {
   "cell_type": "code",
   "execution_count": 56,
   "id": "7a244bd9-a873-4019-b1bb-82e4f52be607",
   "metadata": {},
   "outputs": [
    {
     "data": {
      "image/png": "[encoded data removed]",
      "text/plain": [
       "<Figure size 432x288 with 1 Axes>"
      ]
     },
     "metadata": {
      "needs_background": "light"
     },
     "output_type": "display_data"
    }
   ],
   "source": [
    "plt.plot(lfa_frequency,lfa_amplitude,'b.', label=\"Observation\")\n",
    "plt.plot(lfa_frequency, result.init_fit, 'b--', label=\"Initial Guess\", linewidth=1)\n",
    "plt.plot(lfa_frequency, result.best_fit, 'r--', label=\"One oscillator fit\", linewidth=1)\n",
    "plt.xlabel(\"Frequency(KHz)\")\n",
    "plt.ylabel(\"Amplitude(V)\")\n",
    "plt.title(\"Amplitude vs. Frequency\")\n",
    "plt.legend()\n",
    "plt.savefig(\"Images/LA-Amplitude Fit.png\")\n",
    "plt.show()"
   ]
  },
  {
   "cell_type": "code",
   "execution_count": 57,
   "id": "1f60e4af-c6a7-486d-a464-a03732f0e4d7",
   "metadata": {},
   "outputs": [
    {
     "ename": "TypeError",
     "evalue": "fit() missing 1 required positional argument: 'data'",
     "output_type": "error",
     "traceback": [
      "\u001b[0;31m---------------------------------------------------------------------------\u001b[0m",
      "\u001b[0;31mTypeError\u001b[0m                                 Traceback (most recent call last)",
      "\u001b[0;32m/tmp/ipykernel_79163/2347498571.py\u001b[0m in \u001b[0;36m<module>\u001b[0;34m\u001b[0m\n\u001b[1;32m      6\u001b[0m                 \u001b[0;34m(\u001b[0m\u001b[0;34m'R'\u001b[0m\u001b[0;34m,\u001b[0m \u001b[0;36m1.5e6\u001b[0m\u001b[0;34m,\u001b[0m \u001b[0;32mFalse\u001b[0m\u001b[0;34m,\u001b[0m \u001b[0;36m0\u001b[0m\u001b[0;34m,\u001b[0m \u001b[0;32mNone\u001b[0m\u001b[0;34m,\u001b[0m \u001b[0;32mNone\u001b[0m\u001b[0;34m)\u001b[0m\u001b[0;34m,\u001b[0m\u001b[0;34m\u001b[0m\u001b[0;34m\u001b[0m\u001b[0m\n\u001b[1;32m      7\u001b[0m                 ('C', 2.26e-6, False, 0, None, None))\n\u001b[0;32m----> 8\u001b[0;31m \u001b[0mresult\u001b[0m \u001b[0;34m=\u001b[0m\u001b[0mModel\u001b[0m\u001b[0;34m.\u001b[0m\u001b[0mfit\u001b[0m\u001b[0;34m(\u001b[0m\u001b[0mfa_amplitude\u001b[0m\u001b[0;34m,\u001b[0m \u001b[0mx\u001b[0m\u001b[0;34m=\u001b[0m\u001b[0mfa_frequency\u001b[0m\u001b[0;34m,\u001b[0m \u001b[0mparams\u001b[0m\u001b[0;34m=\u001b[0m\u001b[0mparams_fa\u001b[0m\u001b[0;34m,\u001b[0m \u001b[0mweights\u001b[0m \u001b[0;34m=\u001b[0m \u001b[0;32mNone\u001b[0m \u001b[0;34m)\u001b[0m\u001b[0;34m\u001b[0m\u001b[0;34m\u001b[0m\u001b[0m\n\u001b[0m",
      "\u001b[0;31mTypeError\u001b[0m: fit() missing 1 required positional argument: 'data'"
     ]
    }
   ],
   "source": [
    "# Create a fitting model for the phase shift\n",
    "\n",
    "\n",
    "ps_model = Model(Filter)\n",
    "params_fa = Parameters()\n",
    "params_fa.add_many(('fa_amplitude', 320, True, 0, 350, None), # params for first fit, \n",
    "                ('R', 1.5e6, False, 0, None, None),\n",
    "                ('C', 2.26e-6, False, 0, None, None))\n",
    "result =Model.fit(fa_amplitude, x=fa_frequency, params=params_fa, weights = None )\n"
   ]
  },
  {
   "cell_type": "code",
   "execution_count": null,
   "id": "c71f27b9-214a-4e41-8278-e265a4585631",
   "metadata": {},
   "outputs": [],
   "source": []
  },
  {
   "cell_type": "code",
   "execution_count": 37,
   "id": "6885c0a0-174e-46f3-83a5-93b52d95f61f",
   "metadata": {},
   "outputs": [
    {
     "data": {
      "text/plain": [
       "(8.0, 50.0)"
      ]
     },
     "execution_count": 37,
     "metadata": {},
     "output_type": "execute_result"
    },
    {
     "data": {
      "image/png": "[encoded data removed]",
      "text/plain": [
       "<Figure size 432x288 with 1 Axes>"
      ]
     },
     "metadata": {
      "needs_background": "light"
     },
     "output_type": "display_data"
    }
   ],
   "source": [
    "plt.plot(f,np.abs(vout_c), ls=\"dotted\")\n",
    "plt.plot(lfa_frequency,lfa_amplitude, c=\"crimson\", ls='dotted')\n",
    "plt.xlim(8,50)"
   ]
  },
  {
   "cell_type": "code",
   "execution_count": null,
   "id": "1a296b8c-2501-4b91-aa8e-ac4a6b458e85",
   "metadata": {},
   "outputs": [],
   "source": []
  }
 ],
 "metadata": {
  "kernelspec": {
   "display_name": "Python 3 (ipykernel)",
   "language": "python",
   "name": "python3"
  },
  "language_info": {
   "codemirror_mode": {
    "name": "ipython",
    "version": 3
   },
   "file_extension": ".py",
   "mimetype": "text/x-python",
   "name": "python",
   "nbconvert_exporter": "python",
   "pygments_lexer": "ipython3",
   "version": "3.8.8"
  }
 },
 "nbformat": 4,
 "nbformat_minor": 5
}
