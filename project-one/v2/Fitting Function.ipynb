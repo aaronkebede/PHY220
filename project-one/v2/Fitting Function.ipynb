{
 "cells": [
  {
   "cell_type": "code",
   "execution_count": 1,
   "id": "a0953a75-872e-4747-81ad-9bea835bcdfe",
   "metadata": {},
   "outputs": [],
   "source": [
    "#Import packages\n",
    "import math\n",
    "import numpy as np\n",
    "import pandas as pd\n",
    "from lmfit import Model, Parameters\n",
    "import matplotlib.pyplot as plt\n",
    "from lmfit import Model, Parameters\n",
    "import matplotlib.font_manager\n",
    "from matplotlib.pyplot import figure\n",
    "plt.rcParams.update({'font.size': 18})\n",
    "plt.rcParams.update({\n",
    "    \"text.usetex\": True,\n",
    "    \"font.weight\": \"bold\",\n",
    "    \"font.family\": \"serif\",\n",
    "    \"font.sans-serif\": [\"Helvetica\"]})"
   ]
  },
  {
   "cell_type": "code",
   "execution_count": 2,
   "id": "9b42a720-c240-4037-b69a-548594e5c7ad",
   "metadata": {},
   "outputs": [],
   "source": [
    "#import data, load data into arrays and define axes \n",
    "\n",
    "FA   = pd.read_csv(\"Readings/CSV/Frequency-Amplitude.csv\") \n",
    "FP   = pd.read_csv(\"Readings/CSV/Frequency-PhaseShift.csv\")\n",
    "LFA  = pd.read_csv(\"Readings/CSV/LockIn-Frequency-Amplitude.csv\")\n",
    "LFP  = pd.read_csv(\"Readings/CSV/LockIn-Frequency-PhaseShift.csv\")\n",
    "\n",
    "FA   = np.array(FA) \n",
    "FP   = np.array(FP)\n",
    "LFA  = np.array(LFA)\n",
    "LFP  = np.array(LFP)\n",
    "\n",
    "fa_frequency   = FA[:,2]\n",
    "fa_amplitude   = FA[:,1]\n",
    "fp_frequency   = FP[:,2]\n",
    "fp_phaseshift  = FP[:,1]\n",
    "lfa_frequency  = LFA[:,2]\n",
    "lfa_amplitude  = LFA[:,1]\n",
    "lfp_frequency  = LFP[:,2]\n",
    "lfp_phaseshift = LFP[:,1]\n"
   ]
  },
  {
   "cell_type": "code",
   "execution_count": 3,
   "id": "0e0da3d4-5341-40fd-b3a2-64cbcdf4c7d4",
   "metadata": {},
   "outputs": [],
   "source": [
    "# Define functions\n",
    "\n",
    "def Filter(freq,R,C):\n",
    "    omega = 2*np.pi*freq\n",
    "    vout=( 1./(1j*R*omega*C+1.))\n",
    "    return(vout)"
   ]
  },
  {
   "cell_type": "code",
   "execution_count": 4,
   "id": "7adc1248-9ad1-4a40-a94b-f8ca681c0134",
   "metadata": {},
   "outputs": [],
   "source": [
    "#Define constants in our circuit\n",
    "\n",
    "C = 0.022e-6 # 0.022 microFarads\n",
    "R = 1.5e6 # 1.5 megaOhms\n",
    "tau = R*C # We calculate the time constant since we need it all over our plots"
   ]
  },
  {
   "cell_type": "code",
   "execution_count": 5,
   "id": "fbdf2eb8-dbd6-4c24-84f8-1f8ead6b248d",
   "metadata": {},
   "outputs": [
    {
     "name": "stdout",
     "output_type": "stream",
     "text": [
      "Filter cut off frequency is:    4.82 Hz\n"
     ]
    }
   ],
   "source": [
    "f = np.linspace(10,10000,1000)\n",
    "vout_c = Filter(f,R,C)\n",
    "F_cut = 1./(2.*np.pi*R*C)\n",
    "print(\"Filter cut off frequency is: {:7.2f} Hz\".format(F_cut))"
   ]
  },
  {
   "cell_type": "code",
   "execution_count": 6,
   "id": "d5299b23-c13d-48fa-844b-2b7a3dd88f73",
   "metadata": {},
   "outputs": [],
   "source": [
    "def graph(formula, x_range):  \n",
    "    x = np.array(x_range)  \n",
    "    y = formula(x)# <- note now we're calling the function 'formula' with x\n",
    "    \n",
    "  #  plt.plot(x, y)  \n",
    "  #  plt.show() \n",
    "\n",
    "def amplitude_fit(x):\n",
    "    value = 320/np.sqrt(1+(2*np.pi*tau*x)**2)\n",
    "    return value\n",
    "\n",
    "graph(amplitude_fit, range(0, 100000))\n",
    "\n",
    "def phase_shift_fit(x):\n",
    "    ps_value = -180/pi*np.arctan(2*np.pi*tau*x)\n",
    "    return ps_value"
   ]
  },
  {
   "cell_type": "code",
   "execution_count": 12,
   "id": "9b9c03f3-ec81-4ab0-a19f-63685c47d27f",
   "metadata": {},
   "outputs": [],
   "source": [
    "def Amplitude_of_Filter(x,amp,tau):\n",
    "    lfa_amplitude=amp/np.sqrt(1+(2*np.pi*tau*x)**2)\n",
    "    return lfa_amplitude\n",
    "\n",
    "def Phase_Shift_of_Filter(x,tau,offset):\n",
    "    lfp_phaseshift=-180/np.pi*np.arctan(2*np.pi*tau*x)+offset\n",
    "    return lfp_phaseshift"
   ]
  },
  {
   "cell_type": "code",
   "execution_count": 13,
   "id": "83c6a8d2-c502-44ed-9fe8-6a77509f78f8",
   "metadata": {},
   "outputs": [],
   "source": [
    "amp_model = Model(Amplitude_of_Filter)\n",
    "ps_model  = Model(Phase_Shift_of_Filter)"
   ]
  },
  {
   "cell_type": "code",
   "execution_count": 14,
   "id": "deb0a070-40ab-4f3d-931f-c6ca68bd3807",
   "metadata": {},
   "outputs": [
    {
     "name": "stdout",
     "output_type": "stream",
     "text": [
      "Amplitude Independent vars:  ['x']\n",
      "Amplitude Parameters:  ['amp', 'tau']\n",
      "Phase Shift Independent vars:  ['x']\n",
      "Phase Shift Parameters:  ['tau', 'offset']\n"
     ]
    }
   ],
   "source": [
    "print (\"Amplitude Independent vars: \", amp_model.independent_vars) #print out to confirm what we just did\n",
    "print (\"Amplitude Parameters: \", amp_model.param_names)\n",
    "\n",
    "print (\"Phase Shift Independent vars: \", ps_model.independent_vars) #print out to confirm what we just did\n",
    "print (\"Phase Shift Parameters: \", ps_model.param_names)"
   ]
  },
  {
   "cell_type": "code",
   "execution_count": 15,
   "id": "564190bc-c371-47c9-8108-318b8a990f50",
   "metadata": {},
   "outputs": [],
   "source": [
    "p_a = Parameters()\n",
    "p_a.add_many(('amp', lfa_amplitude.mean(), True, 0, lfa_amplitude.max(), None), # params for first fit, \n",
    "           ('tau', tau, False, None, None, None))\n",
    "\n",
    "p_ps = Parameters()\n",
    "p_ps.add_many(('tau', tau, True, None, None, None),('offset', 0, False, None, None, None))\n"
   ]
  },
  {
   "cell_type": "code",
   "execution_count": 11,
   "id": "02c80bf6-1454-4064-afad-9259ef9e3f26",
   "metadata": {},
   "outputs": [
    {
     "ename": "NameError",
     "evalue": "name 'z' is not defined",
     "output_type": "error",
     "traceback": [
      "\u001b[0;31m---------------------------------------------------------------------------\u001b[0m",
      "\u001b[0;31mNameError\u001b[0m                                 Traceback (most recent call last)",
      "\u001b[0;32m/tmp/ipykernel_141508/2538279126.py\u001b[0m in \u001b[0;36m<module>\u001b[0;34m\u001b[0m\n\u001b[1;32m      1\u001b[0m \u001b[0mamp_result\u001b[0m \u001b[0;34m=\u001b[0m \u001b[0mamp_model\u001b[0m\u001b[0;34m.\u001b[0m\u001b[0mfit\u001b[0m\u001b[0;34m(\u001b[0m\u001b[0mlfa_amplitude\u001b[0m\u001b[0;34m,\u001b[0m \u001b[0mx\u001b[0m\u001b[0;34m=\u001b[0m\u001b[0mlfa_frequency\u001b[0m\u001b[0;34m,\u001b[0m \u001b[0mparams\u001b[0m\u001b[0;34m=\u001b[0m\u001b[0mp_a\u001b[0m\u001b[0;34m,\u001b[0m \u001b[0mweights\u001b[0m \u001b[0;34m=\u001b[0m \u001b[0;32mNone\u001b[0m \u001b[0;34m)\u001b[0m\u001b[0;34m\u001b[0m\u001b[0;34m\u001b[0m\u001b[0m\n\u001b[1;32m      2\u001b[0m \u001b[0;34m\u001b[0m\u001b[0m\n\u001b[0;32m----> 3\u001b[0;31m \u001b[0mps_result\u001b[0m \u001b[0;34m=\u001b[0m \u001b[0mps_model\u001b[0m\u001b[0;34m.\u001b[0m\u001b[0mfit\u001b[0m\u001b[0;34m(\u001b[0m\u001b[0mlfp_phaseshift\u001b[0m\u001b[0;34m,\u001b[0m \u001b[0mx\u001b[0m\u001b[0;34m=\u001b[0m\u001b[0mlfp_frequency\u001b[0m\u001b[0;34m,\u001b[0m \u001b[0mparams\u001b[0m\u001b[0;34m=\u001b[0m\u001b[0mp_ps\u001b[0m\u001b[0;34m,\u001b[0m \u001b[0mweights\u001b[0m \u001b[0;34m=\u001b[0m \u001b[0;32mNone\u001b[0m \u001b[0;34m)\u001b[0m\u001b[0;34m\u001b[0m\u001b[0;34m\u001b[0m\u001b[0m\n\u001b[0m",
      "\u001b[0;32m~/anaconda3/lib/python3.8/site-packages/lmfit/model.py\u001b[0m in \u001b[0;36mfit\u001b[0;34m(self, data, params, weights, method, iter_cb, scale_covar, verbose, fit_kws, nan_policy, calc_covar, max_nfev, **kwargs)\u001b[0m\n\u001b[1;32m   1011\u001b[0m                              \u001b[0mnan_policy\u001b[0m\u001b[0;34m=\u001b[0m\u001b[0mself\u001b[0m\u001b[0;34m.\u001b[0m\u001b[0mnan_policy\u001b[0m\u001b[0;34m,\u001b[0m \u001b[0mcalc_covar\u001b[0m\u001b[0;34m=\u001b[0m\u001b[0mcalc_covar\u001b[0m\u001b[0;34m,\u001b[0m\u001b[0;34m\u001b[0m\u001b[0;34m\u001b[0m\u001b[0m\n\u001b[1;32m   1012\u001b[0m                              max_nfev=max_nfev, **fit_kws)\n\u001b[0;32m-> 1013\u001b[0;31m         \u001b[0moutput\u001b[0m\u001b[0;34m.\u001b[0m\u001b[0mfit\u001b[0m\u001b[0;34m(\u001b[0m\u001b[0mdata\u001b[0m\u001b[0;34m=\u001b[0m\u001b[0mdata\u001b[0m\u001b[0;34m,\u001b[0m \u001b[0mweights\u001b[0m\u001b[0;34m=\u001b[0m\u001b[0mweights\u001b[0m\u001b[0;34m)\u001b[0m\u001b[0;34m\u001b[0m\u001b[0;34m\u001b[0m\u001b[0m\n\u001b[0m\u001b[1;32m   1014\u001b[0m         \u001b[0moutput\u001b[0m\u001b[0;34m.\u001b[0m\u001b[0mcomponents\u001b[0m \u001b[0;34m=\u001b[0m \u001b[0mself\u001b[0m\u001b[0;34m.\u001b[0m\u001b[0mcomponents\u001b[0m\u001b[0;34m\u001b[0m\u001b[0;34m\u001b[0m\u001b[0m\n\u001b[1;32m   1015\u001b[0m         \u001b[0;32mreturn\u001b[0m \u001b[0moutput\u001b[0m\u001b[0;34m\u001b[0m\u001b[0;34m\u001b[0m\u001b[0m\n",
      "\u001b[0;32m~/anaconda3/lib/python3.8/site-packages/lmfit/model.py\u001b[0m in \u001b[0;36mfit\u001b[0;34m(self, data, params, weights, method, nan_policy, **kwargs)\u001b[0m\n\u001b[1;32m   1363\u001b[0m         \u001b[0mself\u001b[0m\u001b[0;34m.\u001b[0m\u001b[0muserargs\u001b[0m \u001b[0;34m=\u001b[0m \u001b[0;34m(\u001b[0m\u001b[0mself\u001b[0m\u001b[0;34m.\u001b[0m\u001b[0mdata\u001b[0m\u001b[0;34m,\u001b[0m \u001b[0mself\u001b[0m\u001b[0;34m.\u001b[0m\u001b[0mweights\u001b[0m\u001b[0;34m)\u001b[0m\u001b[0;34m\u001b[0m\u001b[0;34m\u001b[0m\u001b[0m\n\u001b[1;32m   1364\u001b[0m         \u001b[0mself\u001b[0m\u001b[0;34m.\u001b[0m\u001b[0muserkws\u001b[0m\u001b[0;34m.\u001b[0m\u001b[0mupdate\u001b[0m\u001b[0;34m(\u001b[0m\u001b[0mkwargs\u001b[0m\u001b[0;34m)\u001b[0m\u001b[0;34m\u001b[0m\u001b[0;34m\u001b[0m\u001b[0m\n\u001b[0;32m-> 1365\u001b[0;31m         \u001b[0mself\u001b[0m\u001b[0;34m.\u001b[0m\u001b[0minit_fit\u001b[0m \u001b[0;34m=\u001b[0m \u001b[0mself\u001b[0m\u001b[0;34m.\u001b[0m\u001b[0mmodel\u001b[0m\u001b[0;34m.\u001b[0m\u001b[0meval\u001b[0m\u001b[0;34m(\u001b[0m\u001b[0mparams\u001b[0m\u001b[0;34m=\u001b[0m\u001b[0mself\u001b[0m\u001b[0;34m.\u001b[0m\u001b[0mparams\u001b[0m\u001b[0;34m,\u001b[0m \u001b[0;34m**\u001b[0m\u001b[0mself\u001b[0m\u001b[0;34m.\u001b[0m\u001b[0muserkws\u001b[0m\u001b[0;34m)\u001b[0m\u001b[0;34m\u001b[0m\u001b[0;34m\u001b[0m\u001b[0m\n\u001b[0m\u001b[1;32m   1366\u001b[0m         \u001b[0m_ret\u001b[0m \u001b[0;34m=\u001b[0m \u001b[0mself\u001b[0m\u001b[0;34m.\u001b[0m\u001b[0mminimize\u001b[0m\u001b[0;34m(\u001b[0m\u001b[0mmethod\u001b[0m\u001b[0;34m=\u001b[0m\u001b[0mself\u001b[0m\u001b[0;34m.\u001b[0m\u001b[0mmethod\u001b[0m\u001b[0;34m)\u001b[0m\u001b[0;34m\u001b[0m\u001b[0;34m\u001b[0m\u001b[0m\n\u001b[1;32m   1367\u001b[0m \u001b[0;34m\u001b[0m\u001b[0m\n",
      "\u001b[0;32m~/anaconda3/lib/python3.8/site-packages/lmfit/model.py\u001b[0m in \u001b[0;36meval\u001b[0;34m(self, params, **kwargs)\u001b[0m\n\u001b[1;32m    834\u001b[0m \u001b[0;34m\u001b[0m\u001b[0m\n\u001b[1;32m    835\u001b[0m         \"\"\"\n\u001b[0;32m--> 836\u001b[0;31m         \u001b[0;32mreturn\u001b[0m \u001b[0mself\u001b[0m\u001b[0;34m.\u001b[0m\u001b[0mfunc\u001b[0m\u001b[0;34m(\u001b[0m\u001b[0;34m**\u001b[0m\u001b[0mself\u001b[0m\u001b[0;34m.\u001b[0m\u001b[0mmake_funcargs\u001b[0m\u001b[0;34m(\u001b[0m\u001b[0mparams\u001b[0m\u001b[0;34m,\u001b[0m \u001b[0mkwargs\u001b[0m\u001b[0;34m)\u001b[0m\u001b[0;34m)\u001b[0m\u001b[0;34m\u001b[0m\u001b[0;34m\u001b[0m\u001b[0m\n\u001b[0m\u001b[1;32m    837\u001b[0m \u001b[0;34m\u001b[0m\u001b[0m\n\u001b[1;32m    838\u001b[0m     \u001b[0;34m@\u001b[0m\u001b[0mproperty\u001b[0m\u001b[0;34m\u001b[0m\u001b[0;34m\u001b[0m\u001b[0m\n",
      "\u001b[0;32m/tmp/ipykernel_141508/2753486575.py\u001b[0m in \u001b[0;36mPhase_Shift_of_Filter\u001b[0;34m(x, tau, offset)\u001b[0m\n\u001b[1;32m      4\u001b[0m \u001b[0;34m\u001b[0m\u001b[0m\n\u001b[1;32m      5\u001b[0m \u001b[0;32mdef\u001b[0m \u001b[0mPhase_Shift_of_Filter\u001b[0m\u001b[0;34m(\u001b[0m\u001b[0mx\u001b[0m\u001b[0;34m,\u001b[0m\u001b[0mtau\u001b[0m\u001b[0;34m,\u001b[0m\u001b[0moffset\u001b[0m\u001b[0;34m)\u001b[0m\u001b[0;34m:\u001b[0m\u001b[0;34m\u001b[0m\u001b[0;34m\u001b[0m\u001b[0m\n\u001b[0;32m----> 6\u001b[0;31m     \u001b[0mlfp_phaseshift\u001b[0m\u001b[0;34m=\u001b[0m\u001b[0;34m-\u001b[0m\u001b[0;36m180\u001b[0m\u001b[0;34m/\u001b[0m\u001b[0mnp\u001b[0m\u001b[0;34m.\u001b[0m\u001b[0mpi\u001b[0m\u001b[0;34m*\u001b[0m\u001b[0mnp\u001b[0m\u001b[0;34m.\u001b[0m\u001b[0marctan\u001b[0m\u001b[0;34m(\u001b[0m\u001b[0;36m2\u001b[0m\u001b[0;34m*\u001b[0m\u001b[0mnp\u001b[0m\u001b[0;34m.\u001b[0m\u001b[0mpi\u001b[0m\u001b[0;34m*\u001b[0m\u001b[0mtau\u001b[0m\u001b[0;34m*\u001b[0m\u001b[0mz\u001b[0m\u001b[0;34m)\u001b[0m\u001b[0;34m+\u001b[0m\u001b[0moffset\u001b[0m\u001b[0;34m\u001b[0m\u001b[0;34m\u001b[0m\u001b[0m\n\u001b[0m\u001b[1;32m      7\u001b[0m     \u001b[0;32mreturn\u001b[0m \u001b[0mlfp_phaseshift\u001b[0m\u001b[0;34m\u001b[0m\u001b[0;34m\u001b[0m\u001b[0m\n",
      "\u001b[0;31mNameError\u001b[0m: name 'z' is not defined"
     ]
    }
   ],
   "source": [
    "amp_result = amp_model.fit(lfa_amplitude, x=lfa_frequency, params=p_a, weights = None )\n",
    "\n",
    "ps_result = ps_model.fit(lfp_phaseshift, x=lfp_frequency, params=p_ps, weights = None )"
   ]
  },
  {
   "cell_type": "code",
   "execution_count": 17,
   "id": "7a244bd9-a873-4019-b1bb-82e4f52be607",
   "metadata": {},
   "outputs": [
    {
     "data": {
      "image/png": "[encoded data removed]",
      "text/plain": [
       "<Figure size 432x288 with 1 Axes>"
      ]
     },
     "metadata": {
      "needs_background": "light"
     },
     "output_type": "display_data"
    }
   ],
   "source": [
    "plt.plot(lfa_frequency,lfa_amplitude,'b.', label=\"Observation\")\n",
    "plt.plot(lfa_frequency, amp_result.init_fit, 'b--', label=\"Initial Guess\", linewidth=1)\n",
    "plt.plot(lfa_frequency, amp_result.best_fit, 'r--', label=\"One oscillator fit\", linewidth=1)\n",
    "plt.xlabel(\"Frequency(KHz)\")\n",
    "plt.ylabel(\"Amplitude(V)\")\n",
    "plt.title(\"Amplitude vs. Frequency\")\n",
    "plt.legend()\n",
    "plt.savefig(\"Images/LA-Amplitude Fit.png\")\n",
    "plt.show()"
   ]
  },
  {
   "cell_type": "code",
   "execution_count": 18,
   "id": "1f60e4af-c6a7-486d-a464-a03732f0e4d7",
   "metadata": {},
   "outputs": [
    {
     "ename": "TypeError",
     "evalue": "fit() missing 1 required positional argument: 'data'",
     "output_type": "error",
     "traceback": [
      "\u001b[0;31m---------------------------------------------------------------------------\u001b[0m",
      "\u001b[0;31mTypeError\u001b[0m                                 Traceback (most recent call last)",
      "\u001b[0;32m/tmp/ipykernel_141436/1082565486.py\u001b[0m in \u001b[0;36m<module>\u001b[0;34m\u001b[0m\n\u001b[1;32m      7\u001b[0m                 \u001b[0;34m(\u001b[0m\u001b[0;34m'R'\u001b[0m\u001b[0;34m,\u001b[0m \u001b[0;36m1.5e6\u001b[0m\u001b[0;34m,\u001b[0m \u001b[0;32mFalse\u001b[0m\u001b[0;34m,\u001b[0m \u001b[0;36m0\u001b[0m\u001b[0;34m,\u001b[0m \u001b[0;32mNone\u001b[0m\u001b[0;34m,\u001b[0m \u001b[0;32mNone\u001b[0m\u001b[0;34m)\u001b[0m\u001b[0;34m,\u001b[0m\u001b[0;34m\u001b[0m\u001b[0;34m\u001b[0m\u001b[0m\n\u001b[1;32m      8\u001b[0m                 ('C', 2.26e-6, False, 0, None, None))\n\u001b[0;32m----> 9\u001b[0;31m \u001b[0mresult\u001b[0m \u001b[0;34m=\u001b[0m\u001b[0mModel\u001b[0m\u001b[0;34m.\u001b[0m\u001b[0mfit\u001b[0m\u001b[0;34m(\u001b[0m\u001b[0mfa_amplitude\u001b[0m\u001b[0;34m,\u001b[0m \u001b[0mx\u001b[0m\u001b[0;34m=\u001b[0m\u001b[0mfa_frequency\u001b[0m\u001b[0;34m,\u001b[0m \u001b[0mparams\u001b[0m\u001b[0;34m=\u001b[0m\u001b[0mparams_fa\u001b[0m\u001b[0;34m,\u001b[0m \u001b[0mweights\u001b[0m \u001b[0;34m=\u001b[0m \u001b[0;32mNone\u001b[0m \u001b[0;34m)\u001b[0m\u001b[0;34m\u001b[0m\u001b[0;34m\u001b[0m\u001b[0m\n\u001b[0m",
      "\u001b[0;31mTypeError\u001b[0m: fit() missing 1 required positional argument: 'data'"
     ]
    }
   ],
   "source": [
    "# Create a fitting model for the phase shift\n",
    "\n",
    "\n",
    "ps_model = Model(Filter)\n",
    "params_fa = Parameters()\n",
    "params_fa.add_many(('fa_amplitude', 320, True, 0, 350, None), # params for first fit, \n",
    "                ('R', 1.5e6, False, 0, None, None),\n",
    "                ('C', 2.26e-6, False, 0, None, None))\n",
    "result =Model.fit(fa_amplitude, x=fa_frequency, params=params_fa, weights = None )\n"
   ]
  },
  {
   "cell_type": "code",
   "execution_count": null,
   "id": "c71f27b9-214a-4e41-8278-e265a4585631",
   "metadata": {},
   "outputs": [],
   "source": []
  },
  {
   "cell_type": "code",
   "execution_count": null,
   "id": "6885c0a0-174e-46f3-83a5-93b52d95f61f",
   "metadata": {},
   "outputs": [],
   "source": [
    "plt.plot(f,np.abs(vout_c), ls=\"dotted\")\n",
    "plt.plot(lfa_frequency,lfa_amplitude, c=\"crimson\", ls='dotted')\n",
    "plt.xlim(8,50)"
   ]
  },
  {
   "cell_type": "code",
   "execution_count": null,
   "id": "1a296b8c-2501-4b91-aa8e-ac4a6b458e85",
   "metadata": {},
   "outputs": [],
   "source": []
  },
  {
   "cell_type": "code",
   "execution_count": null,
   "id": "4a3c34da-34ab-4195-8778-e8d2be927ddc",
   "metadata": {},
   "outputs": [],
   "source": []
  }
 ],
 "metadata": {
  "kernelspec": {
   "display_name": "Python 3 (ipykernel)",
   "language": "python",
   "name": "python3"
  },
  "language_info": {
   "codemirror_mode": {
    "name": "ipython",
    "version": 3
   },
   "file_extension": ".py",
   "mimetype": "text/x-python",
   "name": "python",
   "nbconvert_exporter": "python",
   "pygments_lexer": "ipython3",
   "version": "3.8.8"
  }
 },
 "nbformat": 4,
 "nbformat_minor": 5
}
