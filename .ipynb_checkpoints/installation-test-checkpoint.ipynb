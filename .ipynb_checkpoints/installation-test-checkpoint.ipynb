{
 "cells": [
  {
   "cell_type": "code",
   "execution_count": 2,
   "id": "f556d689-9955-4ab2-8a25-6f84d6513cbe",
   "metadata": {},
   "outputs": [],
   "source": [
    "import numpy as np\n",
    "import matplotlib.pyplot as plt\n",
    "from lmfit import Model, Parameters"
   ]
  },
  {
   "cell_type": "code",
   "execution_count": null,
   "id": "77b4caff-53d0-4ee7-8f3f-285743840737",
   "metadata": {},
   "outputs": [],
   "source": [
    "\n",
    "wl, t1,t2,t3 = np.loadtxt(\"Transmission_of_3_films.txt\",unpack=True,skiprows=1) \n",
    "\n",
    "#first data row is incomplete. Let's just skip it.\n"
   ]
  }
 ],
 "metadata": {
  "kernelspec": {
   "display_name": "Python 3 (ipykernel)",
   "language": "python",
   "name": "python3"
  },
  "language_info": {
   "codemirror_mode": {
    "name": "ipython",
    "version": 3
   },
   "file_extension": ".py",
   "mimetype": "text/x-python",
   "name": "python",
   "nbconvert_exporter": "python",
   "pygments_lexer": "ipython3",
   "version": "3.8.8"
  }
 },
 "nbformat": 4,
 "nbformat_minor": 5
}
