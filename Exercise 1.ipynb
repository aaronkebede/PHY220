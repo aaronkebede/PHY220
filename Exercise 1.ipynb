{
 "cells": [
  {
   "cell_type": "code",
   "execution_count": 2,
   "id": "f556d689-9955-4ab2-8a25-6f84d6513cbe",
   "metadata": {},
   "outputs": [],
   "source": [
    "import numpy as np\n",
    "import matplotlib.pyplot as plt\n",
    "from lmfit import Model, Parameters"
   ]
  },
  {
   "cell_type": "code",
   "execution_count": null,
   "id": "77b4caff-53d0-4ee7-8f3f-285743840737",
   "metadata": {},
   "outputs": [],
   "source": [
    "\n",
    "wl, t1,t2,t3 = np.loadtxt(\"Transmission_of_3_films.txt\",unpack=True,skiprows=1) \n",
    "\n",
    "#first data row is incomplete. Let's just skip it.\n",
    "\n",
    "\n",
    "data = np.concatenate((t3,t2,t1)) \n",
    "#assemble a data array by concatenating the three data sets.\n",
    "\n",
    "wl = np.concatenate((wl+6000,wl+3000,wl)) \n",
    "#assemble the corresponding wavelength array, taking care of shifting the data sets so that they can be recognized by the function, based on the wavelength value.\n"
   ]
  },
  {
   "cell_type": "code",
   "execution_count": null,
   "id": "6f8853fe-9209-4bda-9e9a-beb37f9ce27d",
   "metadata": {},
   "outputs": [],
   "source": [
    "#define functions and constants\n",
    "\n",
    "c = 2.99792458e8\n",
    "\n",
    "def sqr(v):\n",
    "    return v*v\n",
    "\n",
    "def Transmission(x,ns,s1,lam1,alpha0,alpha0_lam,d_lam,d1,d2,d3):\n",
    "    d = np.where(x<3000,d3,np.where(x<6000,d2,d1)) #This  identifies which data set we need to calculate the transmission for, based on the wavelength\n",
    "    x = np.where(x<3000,x,np.where(x<6000,x-3000,x-6000)) # data sets are identified by offsets in the wavelength. Remove the offset for the calculations\n",
    "    \n",
    "    n = np.sqrt(s1/(1-sqr(lam1/x))+1)\n",
    "    nu = c/(x*1E-9)\n",
    "    nu0 = c/(alpha0_lam*1E-9)\n",
    "    deltanu = c/sqr(alpha0_lam*1E-9)*d_lam*1E-9 # this is the delta_nu corresponding to the wavelength interval d_lam around the abs wavelength of lam0\n",
    "    alpha = alpha0*np.exp(-sqr((nu-nu0)/deltanu))\n",
    "    taf = 2*n/(1+n)\n",
    "    tfs = 2*ns/(n+ns)\n",
    "    rfa = (1-n)/(1+n)\n",
    "    rfs = (ns-n)/(ns+n)\n",
    "    k = 2*np.pi/x * n \n",
    "    \n",
    "    tf = taf*tfs*np.exp(-alpha*d/2)/( 1 - rfa*rfs*np.exp(2*1.j*d*k)*np.exp(-alpha*d) )\n",
    "    tsa=2*1/(ns+1)\n",
    "    return sqr(np.abs(tf)*tsa)\n"
   ]
  },
  {
   "cell_type": "code",
   "execution_count": null,
   "id": "3b17e1ae-5b7a-40e6-82f5-5a6b672a2162",
   "metadata": {},
   "outputs": [],
   "source": [
    "model = Model(Transmission)\n",
    "p = Parameters()\n",
    "p.add_many(('ns', 1.5, False, None, None, None), # params for first fit, only one oscillator and the correction for the infrared\n",
    "           ('s1', 2, True, 0, 10, None),\n",
    "           ('lam1', 400, True, None, None, None),\n",
    "           ('alpha0', 0.01, True, None, None, None),\n",
    "           ('alpha0_lam', 500, True, None, None, None),\n",
    "           ('d_lam', 50, True, None, None, None),\n",
    "           ('d1', 300, True, None, None, None),\n",
    "           ('d2', 600, True, None, None, None),\n",
    "           ('d3', 900, True, None, None, None))\n",
    "\n",
    "result =model.fit(data, x=wl, params=p ) \n"
   ]
  },
  {
   "cell_type": "code",
   "execution_count": null,
   "id": "4df270fe-03fc-431c-b171-01c9de812229",
   "metadata": {},
   "outputs": [],
   "source": [
    "# plots\n",
    "\n",
    "plt.figure(1)\n",
    "plt.plot(wl,data,'g.')\n",
    "plt.plot(wl, result.init_fit, 'r--', linewidth=1)\n",
    "plt.plot(wl, result.best_fit, 'b-', linewidth=2)\n",
    "plt.legend()\n",
    "plt.show()"
   ]
  },
  {
   "cell_type": "code",
   "execution_count": null,
   "id": "4c906d17-4fb2-4697-8b95-038d5a0f1241",
   "metadata": {},
   "outputs": [],
   "source": [
    "plt.figure(2) # create a second figure, for plotting the residuals\n",
    "plt.plot(wl, result.best_fit - data, 'b.', label=\"Residuals\") #residuals are the difference between best fit and data\n",
    "plt.axhline(y=0, xmin=0.0, xmax=1,  color = 'r') # add an horizontal line at zero.\n",
    "plt.legend()\n",
    "plt.show()\n"
   ]
  }
 ],
 "metadata": {
  "kernelspec": {
   "display_name": "Python 3 (ipykernel)",
   "language": "python",
   "name": "python3"
  },
  "language_info": {
   "codemirror_mode": {
    "name": "ipython",
    "version": 3
   },
   "file_extension": ".py",
   "mimetype": "text/x-python",
   "name": "python",
   "nbconvert_exporter": "python",
   "pygments_lexer": "ipython3",
   "version": "3.8.8"
  }
 },
 "nbformat": 4,
 "nbformat_minor": 5
}
