{
 "cells": [
  {
   "cell_type": "code",
   "execution_count": 58,
   "id": "60e36acd-b0fa-44ba-be3e-450e56b3a3de",
   "metadata": {},
   "outputs": [],
   "source": [
    "import numpy as np\n",
    "import matplotlib.pyplot as plt\n",
    "import matplotlib.font_manager\n",
    "import pandas as pd\n",
    "plt.rcParams.update({'font.size': 16})\n",
    "plt.rcParams.update({\n",
    "    \"text.usetex\": True,\n",
    "    \"font.weight\": \"bold\",\n",
    "    \"font.family\": \"serif\",\n",
    "    \"font.sans-serif\": [\"Helvetica\"]})"
   ]
  },
  {
   "cell_type": "code",
   "execution_count": 59,
   "id": "c74e88ca-25b7-40ce-8d7c-2000fe2dc750",
   "metadata": {},
   "outputs": [],
   "source": [
    "\n",
    "amplitude = pd.read_csv(\"project-one/Readings/amp.csv\") \n",
    "frequency = pd.read_csv(\"project-one/Readings/freq.csv\")\n",
    "phase     = pd.read_csv(\"project-one/Readings/phase.csv\")\n"
   ]
  },
  {
   "cell_type": "code",
   "execution_count": 60,
   "id": "167656e3-7897-4123-b29f-014f27f8ef09",
   "metadata": {},
   "outputs": [],
   "source": [
    "# load amplitude, frequency, phase into arrays\n",
    "\n",
    "amplitude = np.array(amplitude)\n",
    "frequency = np.array(frequency)\n",
    "phase     = np.array(phase)\n"
   ]
  },
  {
   "cell_type": "code",
   "execution_count": 61,
   "id": "9a7b46e1-842f-438b-956a-676750a6808b",
   "metadata": {},
   "outputs": [],
   "source": [
    "frequency_axis         = frequency[:,1]\n",
    "time_frequency_axis    = frequency[:,0]\n",
    "amplitude_axis         = amplitude[:,1]\n",
    "time_amplitude_axis    = amplitude[:,0]\n",
    "phase_axis             = phase[:,1]\n",
    "time_phase_axis        = phase[:,0]"
   ]
  },
  {
   "cell_type": "code",
   "execution_count": 64,
   "id": "673ea056-81cb-4c3e-916f-40e89cf0953c",
   "metadata": {},
   "outputs": [
    {
     "data": {
      "image/png": "[encoded data removed]",
      "text/plain": [
       "<Figure size 432x288 with 1 Axes>"
      ]
     },
     "metadata": {
      "needs_background": "light"
     },
     "output_type": "display_data"
    }
   ],
   "source": [
    "plt.plot(time_frequency_axis,frequency_axis, lw=2, )\n",
    "plt.grid()\n",
    "plt.xlabel(\"Time\")\n",
    "plt.ylabel(\"Frequency\")\n",
    "plt.show()"
   ]
  },
  {
   "cell_type": "code",
   "execution_count": 65,
   "id": "1f375ade-29e4-4952-abdd-e72696cd98c3",
   "metadata": {},
   "outputs": [
    {
     "data": {
      "text/plain": [
       "Text(0, 0.5, 'Amplitude Difference')"
      ]
     },
     "execution_count": 65,
     "metadata": {},
     "output_type": "execute_result"
    },
    {
     "data": {
      "image/png": "[encoded data removed]",
      "text/plain": [
       "<Figure size 432x288 with 1 Axes>"
      ]
     },
     "metadata": {
      "needs_background": "light"
     },
     "output_type": "display_data"
    }
   ],
   "source": [
    "plt.plot(time_amplitude_axis,amplitude_axis,lw=2)\n",
    "plt.grid()\n",
    "plt.xlabel(\"Amplitude\")\n",
    "plt.ylabel(\"Time\")"
   ]
  },
  {
   "cell_type": "code",
   "execution_count": null,
   "id": "458f68a8-d400-4dc2-826d-e873d745f514",
   "metadata": {},
   "outputs": [],
   "source": [
    "plt.plot(sample_freq,sample_amp_diff,lw=2)\n",
    "plt.xlabel(\"Frequency\")\n",
    "plt.ylabel(\"Amplitude Difference\")"
   ]
  }
 ],
 "metadata": {
  "kernelspec": {
   "display_name": "Python 3 (ipykernel)",
   "language": "python",
   "name": "python3"
  },
  "language_info": {
   "codemirror_mode": {
    "name": "ipython",
    "version": 3
   },
   "file_extension": ".py",
   "mimetype": "text/x-python",
   "name": "python",
   "nbconvert_exporter": "python",
   "pygments_lexer": "ipython3",
   "version": "3.8.8"
  }
 },
 "nbformat": 4,
 "nbformat_minor": 5
}
