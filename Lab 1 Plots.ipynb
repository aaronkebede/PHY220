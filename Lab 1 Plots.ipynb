{
 "cells": [
  {
   "cell_type": "code",
   "execution_count": 3,
   "id": "60e36acd-b0fa-44ba-be3e-450e56b3a3de",
   "metadata": {},
   "outputs": [],
   "source": [
    "import numpy as np\n",
    "import matplotlib.pyplot as plt\n",
    "import matplotlib.font_manager\n",
    "import pandas as pd\n",
    "plt.rcParams.update({'font.size': 16})\n",
    "plt.rcParams.update({\n",
    "    \"text.usetex\": True,\n",
    "    \"font.weight\": \"bold\",\n",
    "    \"font.family\": \"sans-serif\",\n",
    "    \"font.sans-serif\": [\"Helvetica\"]})"
   ]
  },
  {
   "cell_type": "code",
   "execution_count": 8,
   "id": "c74e88ca-25b7-40ce-8d7c-2000fe2dc750",
   "metadata": {},
   "outputs": [],
   "source": [
    "amplitude = pd.read_csv(\"project-one/amp.csv\") \n",
    "frequency = pd.read_csv(\"project-one/freq.csv\")\n",
    "phase     = pd.read_csv(\"project-one/phase.csv\")           "
   ]
  },
  {
   "cell_type": "code",
   "execution_count": 13,
   "id": "167656e3-7897-4123-b29f-014f27f8ef09",
   "metadata": {},
   "outputs": [],
   "source": [
    "#amplitude, frequency, phase"
   ]
  },
  {
   "cell_type": "code",
   "execution_count": 14,
   "id": "673ea056-81cb-4c3e-916f-40e89cf0953c",
   "metadata": {},
   "outputs": [
    {
     "data": {
      "text/plain": [
       "[<matplotlib.lines.Line2D at 0x7f9ea9358850>,\n",
       " <matplotlib.lines.Line2D at 0x7f9ea93588b0>]"
      ]
     },
     "execution_count": 14,
     "metadata": {},
     "output_type": "execute_result"
    },
    {
     "data": {
      "image/png": "[encoded data removed]",
      "text/plain": [
       "<Figure size 432x288 with 1 Axes>"
      ]
     },
     "metadata": {
      "needs_background": "light"
     },
     "output_type": "display_data"
    }
   ],
   "source": [
    "plt.plot(amplitude, lw=2, )"
   ]
  },
  {
   "cell_type": "code",
   "execution_count": null,
   "id": "458f68a8-d400-4dc2-826d-e873d745f514",
   "metadata": {},
   "outputs": [],
   "source": []
  }
 ],
 "metadata": {
  "kernelspec": {
   "display_name": "Python 3 (ipykernel)",
   "language": "python",
   "name": "python3"
  },
  "language_info": {
   "codemirror_mode": {
    "name": "ipython",
    "version": 3
   },
   "file_extension": ".py",
   "mimetype": "text/x-python",
   "name": "python",
   "nbconvert_exporter": "python",
   "pygments_lexer": "ipython3",
   "version": "3.8.8"
  }
 },
 "nbformat": 4,
 "nbformat_minor": 5
}
