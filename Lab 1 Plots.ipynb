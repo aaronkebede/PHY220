{
 "cells": [
  {
   "cell_type": "code",
   "execution_count": 3,
   "id": "60e36acd-b0fa-44ba-be3e-450e56b3a3de",
   "metadata": {},
   "outputs": [],
   "source": [
    "import numpy as np\n",
    "import matplotlib.pyplot as plt\n",
    "import matplotlib.font_manager\n",
    "import pandas as pd\n",
    "plt.rcParams.update({'font.size': 16})\n",
    "plt.rcParams.update({\n",
    "    \"text.usetex\": True,\n",
    "    \"font.weight\": \"bold\",\n",
    "    \"font.family\": \"sans-serif\",\n",
    "    \"font.sans-serif\": [\"Helvetica\"]})"
   ]
  },
  {
   "cell_type": "code",
   "execution_count": 5,
   "id": "c74e88ca-25b7-40ce-8d7c-2000fe2dc750",
   "metadata": {},
   "outputs": [],
   "source": [
    "amplitude = pd.read_csv(\"project-one/Readings/amp.csv\") \n",
    "frequency = pd.read_csv(\"project-one/Readings/freq.csv\")\n",
    "phase     = pd.read_csv(\"project-one/Readings/phase.csv\")\n",
    "sample    = pd.read_csv(\"project-one/sample-data.csv\")"
   ]
  },
  {
   "cell_type": "code",
   "execution_count": 23,
   "id": "a9c892d6-9336-4d25-aab2-54d891cd1467",
   "metadata": {},
   "outputs": [],
   "source": [
    "#Create an empty array which you can append files to\n",
    "\n",
    "amp_array = np.zeros(50)\n",
    "phase_array = np.zeros(50)\n",
    "freq_array = np.zeros(50)\n"
   ]
  },
  {
   "cell_type": "code",
   "execution_count": 24,
   "id": "167656e3-7897-4123-b29f-014f27f8ef09",
   "metadata": {},
   "outputs": [],
   "source": [
    "#amplitude, frequency, phase"
   ]
  },
  {
   "cell_type": "code",
   "execution_count": 17,
   "id": "6d250a47-c501-492d-9b15-5d5f82f32128",
   "metadata": {},
   "outputs": [],
   "source": [
    "sample = np.array(sample)"
   ]
  },
  {
   "cell_type": "code",
   "execution_count": 43,
   "id": "9a7b46e1-842f-438b-956a-676750a6808b",
   "metadata": {},
   "outputs": [],
   "source": [
    "sample_freq       = sample[:,0]\n",
    "sample_amp_1      = sample[:,1]\n",
    "sample_amp_2      = sample[:,2]\n",
    "sample_phase_diff = sample[:,3]\n",
    "sample_amp_diff   = sample[:,4]"
   ]
  },
  {
   "cell_type": "code",
   "execution_count": 45,
   "id": "673ea056-81cb-4c3e-916f-40e89cf0953c",
   "metadata": {},
   "outputs": [
    {
     "data": {
      "text/plain": [
       "Text(0, 0.5, 'Amplitude')"
      ]
     },
     "execution_count": 45,
     "metadata": {},
     "output_type": "execute_result"
    },
    {
     "data": {
      "image/png": "[encoded data removed]",
      "text/plain": [
       "<Figure size 432x288 with 1 Axes>"
      ]
     },
     "metadata": {
      "needs_background": "light"
     },
     "output_type": "display_data"
    }
   ],
   "source": [
    "plt.plot(sample_freq,sample_phase_diff, lw=2, )\n",
    "plt.xlabel(\"Frequency\")\n",
    "plt.ylabel(\"Phase Differe\")"
   ]
  },
  {
   "cell_type": "code",
   "execution_count": null,
   "id": "458f68a8-d400-4dc2-826d-e873d745f514",
   "metadata": {},
   "outputs": [],
   "source": []
  }
 ],
 "metadata": {
  "kernelspec": {
   "display_name": "Python 3 (ipykernel)",
   "language": "python",
   "name": "python3"
  },
  "language_info": {
   "codemirror_mode": {
    "name": "ipython",
    "version": 3
   },
   "file_extension": ".py",
   "mimetype": "text/x-python",
   "name": "python",
   "nbconvert_exporter": "python",
   "pygments_lexer": "ipython3",
   "version": "3.8.8"
  }
 },
 "nbformat": 4,
 "nbformat_minor": 5
}
