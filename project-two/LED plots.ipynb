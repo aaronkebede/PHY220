{
 "cells": [
  {
   "cell_type": "code",
   "execution_count": 19,
   "id": "db629170-3751-4fc4-96e0-2a7b1f866360",
   "metadata": {},
   "outputs": [],
   "source": [
    "#Import packages\n",
    "import math\n",
    "import numpy as np\n",
    "import pandas as pd\n",
    "from lmfit import Model, Parameters\n",
    "import matplotlib.pyplot as plt\n",
    "from lmfit import Model, Parameters\n",
    "import matplotlib.font_manager\n",
    "from matplotlib.pyplot import figure\n",
    "plt.rcParams.update({'font.size': 18})\n",
    "plt.rcParams.update({\n",
    "    \"text.usetex\": True,\n",
    "    \"font.weight\": \"bold\",\n",
    "    \"font.family\": \"serif\",\n",
    "    \"font.sans-serif\": [\"Helvetica\"]})"
   ]
  },
  {
   "cell_type": "code",
   "execution_count": 20,
   "id": "ed7e514d-cb6b-4144-8eb1-7ed91768301e",
   "metadata": {},
   "outputs": [],
   "source": [
    "Data_1   = pd.read_csv(\"Readings/Diode_Data_1.csv\") \n",
    "Data_2   = pd.read_csv(\"Readings/Diode_Data_2.csv\")"
   ]
  },
  {
   "cell_type": "code",
   "execution_count": 21,
   "id": "d48d1ba3-7a5a-4cae-9b74-f14f174f57fd",
   "metadata": {},
   "outputs": [],
   "source": [
    "Data_1 = np.array(Data_1)\n",
    "Data_2 = np.array(Data_2)"
   ]
  },
  {
   "cell_type": "code",
   "execution_count": 22,
   "id": "d6c41fd4-51ea-42fb-845d-251224bde742",
   "metadata": {},
   "outputs": [],
   "source": [
    "V_PWM_1 = Data_1[:,0]\n",
    "V_PWM_2 = Data_2[:,0]"
   ]
  },
  {
   "cell_type": "code",
   "execution_count": 23,
   "id": "b1b96013-2064-49bc-890b-ca2fd2d26cb5",
   "metadata": {},
   "outputs": [],
   "source": [
    "# Let V_B be the voltage before the diode & V_A voltage after the diode\n",
    "\n",
    "V_A_1 = Data_1[:,1]\n",
    "V_A_2 = Data_2[:,1]\n",
    "\n",
    "## Now, let's remove the zeros from the measurements\n",
    "\n",
    "\n",
    "V_A_1 = np.ma.masked_equal(V_A_1,0)\n",
    "V_A_2 = np.ma.masked_equal(V_A_2,0)"
   ]
  },
  {
   "cell_type": "code",
   "execution_count": 24,
   "id": "8185b5d4-546f-4167-9695-019a2b06c72d",
   "metadata": {},
   "outputs": [],
   "source": [
    "# Now, let's change the output of the labview program into actual voltage\n",
    "\n",
    "V_A_1 = V_A_1 * 5 / 1023\n",
    "V_A_2 = V_A_2 * 5 / 1023"
   ]
  },
  {
   "cell_type": "code",
   "execution_count": 25,
   "id": "92f1a9db-9440-4d07-86ac-018cd78d4530",
   "metadata": {},
   "outputs": [
    {
     "data": {
      "text/plain": [
       "(2.4926686217008798, 4.682306940371457, 5.05, 5.05)"
      ]
     },
     "execution_count": 25,
     "metadata": {},
     "output_type": "execute_result"
    }
   ],
   "source": [
    "V_A_1.max(), V_A_2.max(), V_PWM_1.max(), V_PWM_2.max()"
   ]
  },
  {
   "cell_type": "code",
   "execution_count": 26,
   "id": "b2f25e41-33fc-4673-b7b9-b12897d2034e",
   "metadata": {},
   "outputs": [],
   "source": [
    "#The current is calculated the follwing way\n",
    "\n",
    "I = (V_A_2 - V_A_1)/10000  "
   ]
  },
  {
   "cell_type": "code",
   "execution_count": 27,
   "id": "ed56bdc1-6e78-46fe-b3c1-f1ff1b53c199",
   "metadata": {},
   "outputs": [
    {
     "data": {
      "text/plain": [
       "[<matplotlib.lines.Line2D at 0x7f75e2303ee0>]"
      ]
     },
     "execution_count": 27,
     "metadata": {},
     "output_type": "execute_result"
    },
    {
     "data": {
      "image/png": "[encoded data removed]",
      "text/plain": [
       "<Figure size 432x288 with 1 Axes>"
      ]
     },
     "metadata": {
      "needs_background": "light"
     },
     "output_type": "display_data"
    }
   ],
   "source": [
    "plt.plot(V_PWM_2, V_A_2)"
   ]
  },
  {
   "cell_type": "code",
   "execution_count": 28,
   "id": "83650658-c089-402b-8abe-cf80979efdae",
   "metadata": {},
   "outputs": [
    {
     "data": {
      "text/plain": [
       "[<matplotlib.lines.Line2D at 0x7f75e22dab50>]"
      ]
     },
     "execution_count": 28,
     "metadata": {},
     "output_type": "execute_result"
    },
    {
     "data": {
      "image/png": "[encoded data removed]",
      "text/plain": [
       "<Figure size 432x288 with 1 Axes>"
      ]
     },
     "metadata": {
      "needs_background": "light"
     },
     "output_type": "display_data"
    }
   ],
   "source": [
    "plt.plot(V_A_2,I)"
   ]
  },
  {
   "cell_type": "code",
   "execution_count": null,
   "id": "962635b5-900f-4b3b-9fbf-b95b218beb9e",
   "metadata": {},
   "outputs": [],
   "source": []
  },
  {
   "cell_type": "code",
   "execution_count": null,
   "id": "2a0a3102-e6f9-412b-9085-bf0823797d38",
   "metadata": {},
   "outputs": [],
   "source": []
  }
 ],
 "metadata": {
  "kernelspec": {
   "display_name": "Python 3 (ipykernel)",
   "language": "python",
   "name": "python3"
  },
  "language_info": {
   "codemirror_mode": {
    "name": "ipython",
    "version": 3
   },
   "file_extension": ".py",
   "mimetype": "text/x-python",
   "name": "python",
   "nbconvert_exporter": "python",
   "pygments_lexer": "ipython3",
   "version": "3.8.8"
  }
 },
 "nbformat": 4,
 "nbformat_minor": 5
}
