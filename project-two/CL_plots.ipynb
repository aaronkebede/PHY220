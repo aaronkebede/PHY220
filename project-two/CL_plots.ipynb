{
 "cells": [
  {
   "cell_type": "code",
   "execution_count": 8,
   "id": "b54729d1-8e84-4dd9-9eca-2d94d436f7d5",
   "metadata": {},
   "outputs": [],
   "source": [
    "#Import packages\n",
    "\n",
    "import math\n",
    "import numpy as np\n",
    "import pandas as pd\n",
    "from lmfit import Model, Parameters\n",
    "import matplotlib.pyplot as plt\n",
    "from lmfit import Model, Parameters\n",
    "import matplotlib.font_manager\n",
    "from matplotlib.pyplot import figure\n",
    "plt.rcParams.update({'font.size': 18})\n",
    "plt.rcParams.update({\n",
    "    \"text.usetex\": True,\n",
    "    \"font.weight\": \"bold\",\n",
    "    \"font.family\": \"serif\",\n",
    "    \"font.sans-serif\": [\"Helvetica\"]})"
   ]
  },
  {
   "cell_type": "code",
   "execution_count": 9,
   "id": "da67f9a8-6349-4ff0-b116-3243b933654e",
   "metadata": {},
   "outputs": [],
   "source": [
    "data_raw  = pd.read_csv(\"Readings/LED/CL_LED.csv\")"
   ]
  },
  {
   "cell_type": "code",
   "execution_count": 10,
   "id": "8f48632a-924d-40e5-b8de-4b864b37e6fb",
   "metadata": {},
   "outputs": [],
   "source": [
    "#data_raw"
   ]
  },
  {
   "cell_type": "code",
   "execution_count": 11,
   "id": "75ea4c73-2e94-42ed-8815-6a65ffe2182b",
   "metadata": {},
   "outputs": [],
   "source": [
    "data = np.array(data_raw) "
   ]
  },
  {
   "cell_type": "code",
   "execution_count": 12,
   "id": "a1adcda0-9e6a-4998-b45e-a4c2c2f24a6b",
   "metadata": {},
   "outputs": [
    {
     "data": {
      "text/plain": [
       "(120061, 4)"
      ]
     },
     "execution_count": 12,
     "metadata": {},
     "output_type": "execute_result"
    }
   ],
   "source": [
    "data.shape"
   ]
  },
  {
   "cell_type": "code",
   "execution_count": 13,
   "id": "5d76bba4-a0b3-416e-a7ca-9266c03fffe6",
   "metadata": {},
   "outputs": [],
   "source": [
    "V_out = data[:,0]\n",
    "V_led = data[:,1]"
   ]
  },
  {
   "cell_type": "code",
   "execution_count": 14,
   "id": "83b56da8-a122-472e-99b8-30392aadab3f",
   "metadata": {},
   "outputs": [
    {
     "data": {
      "image/png": "[encoded data removed]",
      "text/plain": [
       "<Figure size 432x288 with 1 Axes>"
      ]
     },
     "metadata": {
      "needs_background": "light"
     },
     "output_type": "display_data"
    }
   ],
   "source": [
    "plt.plot(V_out, V_led, '--', lw=0.7)\n",
    "plt.xlabel(\"V(out)\")\n",
    "plt.ylabel(\"V(LED)\")\n",
    "#plt.axvline(tau, lw='0.6', ls='-', c=\"green\", label=\"tau\")\n",
    "#plt.axhline(V_tau, lw='0.6', c=\"blue\", label=\"V(tau)\")\n",
    "#plt.legend()\n",
    "plt.savefig(\"Images/CL Voltage LED vs Out.pdf\", bbox_inches='tight')\n",
    "plt.show()"
   ]
  },
  {
   "cell_type": "code",
   "execution_count": 15,
   "id": "33de3ee1-0396-4905-bf3a-0d5a8f8874a7",
   "metadata": {},
   "outputs": [],
   "source": [
    "# Now, let's calculate the current\n",
    "R = 200\n",
    "I = (V_out - V_led) / R"
   ]
  },
  {
   "cell_type": "code",
   "execution_count": 16,
   "id": "6cc4aa03-d3a3-4e10-a0a3-0c840f1fabd4",
   "metadata": {},
   "outputs": [
    {
     "data": {
      "image/png": "[encoded data removed]",
      "text/plain": [
       "<Figure size 432x288 with 1 Axes>"
      ]
     },
     "metadata": {
      "needs_background": "light"
     },
     "output_type": "display_data"
    }
   ],
   "source": [
    "plt.plot(V_out, I, '-', lw=0.7)\n",
    "plt.xlabel(\"Output Voltage(V)\")\n",
    "plt.ylabel(\"Current(A)\")\n",
    "#plt.axvline(tau, lw='0.6', ls='-', c=\"green\", label=\"tau\")\n",
    "#plt.axhline(V_tau, lw='0.6', c=\"blue\", label=\"V(tau)\")\n",
    "#plt.legend()\n",
    "plt.savefig(\"Images/CL I vs V out.pdf\", bbox_inches='tight')\n",
    "plt.show()"
   ]
  },
  {
   "cell_type": "code",
   "execution_count": null,
   "id": "b8d577b5-fa76-46f9-a4b4-5ed788e0350d",
   "metadata": {},
   "outputs": [],
   "source": []
  }
 ],
 "metadata": {
  "kernelspec": {
   "display_name": "Python 3 (ipykernel)",
   "language": "python",
   "name": "python3"
  },
  "language_info": {
   "codemirror_mode": {
    "name": "ipython",
    "version": 3
   },
   "file_extension": ".py",
   "mimetype": "text/x-python",
   "name": "python",
   "nbconvert_exporter": "python",
   "pygments_lexer": "ipython3",
   "version": "3.8.8"
  }
 },
 "nbformat": 4,
 "nbformat_minor": 5
}
