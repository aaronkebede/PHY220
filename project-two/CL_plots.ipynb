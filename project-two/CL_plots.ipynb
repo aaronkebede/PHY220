{
 "cells": [
  {
   "cell_type": "code",
   "execution_count": 1,
   "id": "b54729d1-8e84-4dd9-9eca-2d94d436f7d5",
   "metadata": {},
   "outputs": [],
   "source": [
    "#Import packages\n",
    "import math\n",
    "import numpy as np\n",
    "import pandas as pd\n",
    "from lmfit import Model, Parameters\n",
    "import matplotlib.pyplot as plt\n",
    "from lmfit import Model, Parameters\n",
    "import matplotlib.font_manager\n",
    "from matplotlib.pyplot import figure\n",
    "plt.rcParams.update({'font.size': 18})\n",
    "plt.rcParams.update({\n",
    "    \"text.usetex\": True,\n",
    "    \"font.weight\": \"bold\",\n",
    "    \"font.family\": \"serif\",\n",
    "    \"font.sans-serif\": [\"Helvetica\"]})"
   ]
  },
  {
   "cell_type": "code",
   "execution_count": 2,
   "id": "da67f9a8-6349-4ff0-b116-3243b933654e",
   "metadata": {},
   "outputs": [],
   "source": [
    "data_raw  = pd.read_csv(\"Readings/LED/CL_LED.csv\")"
   ]
  },
  {
   "cell_type": "code",
   "execution_count": 3,
   "id": "8f48632a-924d-40e5-b8de-4b864b37e6fb",
   "metadata": {},
   "outputs": [
    {
     "data": {
      "text/html": [
       "<div>\n",
       "<style scoped>\n",
       "    .dataframe tbody tr th:only-of-type {\n",
       "        vertical-align: middle;\n",
       "    }\n",
       "\n",
       "    .dataframe tbody tr th {\n",
       "        vertical-align: top;\n",
       "    }\n",
       "\n",
       "    .dataframe thead th {\n",
       "        text-align: right;\n",
       "    }\n",
       "</style>\n",
       "<table border=\"1\" class=\"dataframe\">\n",
       "  <thead>\n",
       "    <tr style=\"text-align: right;\">\n",
       "      <th></th>\n",
       "      <th>Time</th>\n",
       "      <th>V(Vout)</th>\n",
       "      <th>V(Vled)</th>\n",
       "      <th>Unnamed: 3</th>\n",
       "    </tr>\n",
       "  </thead>\n",
       "  <tbody>\n",
       "    <tr>\n",
       "      <th>0</th>\n",
       "      <td>0.000000e+00</td>\n",
       "      <td>0.000000</td>\n",
       "      <td>0.000000</td>\n",
       "      <td>NaN</td>\n",
       "    </tr>\n",
       "    <tr>\n",
       "      <th>1</th>\n",
       "      <td>1.000000e-18</td>\n",
       "      <td>0.000000</td>\n",
       "      <td>0.000000</td>\n",
       "      <td>NaN</td>\n",
       "    </tr>\n",
       "    <tr>\n",
       "      <th>2</th>\n",
       "      <td>1.000000e-15</td>\n",
       "      <td>0.000000</td>\n",
       "      <td>0.000000</td>\n",
       "      <td>NaN</td>\n",
       "    </tr>\n",
       "    <tr>\n",
       "      <th>3</th>\n",
       "      <td>1.001000e-15</td>\n",
       "      <td>4.995008</td>\n",
       "      <td>0.002995</td>\n",
       "      <td>NaN</td>\n",
       "    </tr>\n",
       "    <tr>\n",
       "      <th>4</th>\n",
       "      <td>1.000000e-03</td>\n",
       "      <td>4.995008</td>\n",
       "      <td>0.002995</td>\n",
       "      <td>NaN</td>\n",
       "    </tr>\n",
       "    <tr>\n",
       "      <th>...</th>\n",
       "      <td>...</td>\n",
       "      <td>...</td>\n",
       "      <td>...</td>\n",
       "      <td>...</td>\n",
       "    </tr>\n",
       "    <tr>\n",
       "      <th>120056</th>\n",
       "      <td>5.999700e+01</td>\n",
       "      <td>4.996366</td>\n",
       "      <td>1.362864</td>\n",
       "      <td>NaN</td>\n",
       "    </tr>\n",
       "    <tr>\n",
       "      <th>120057</th>\n",
       "      <td>5.999800e+01</td>\n",
       "      <td>4.996366</td>\n",
       "      <td>1.362864</td>\n",
       "      <td>NaN</td>\n",
       "    </tr>\n",
       "    <tr>\n",
       "      <th>120058</th>\n",
       "      <td>5.999800e+01</td>\n",
       "      <td>4.996366</td>\n",
       "      <td>1.362864</td>\n",
       "      <td>NaN</td>\n",
       "    </tr>\n",
       "    <tr>\n",
       "      <th>120059</th>\n",
       "      <td>5.999900e+01</td>\n",
       "      <td>4.996366</td>\n",
       "      <td>1.362864</td>\n",
       "      <td>NaN</td>\n",
       "    </tr>\n",
       "    <tr>\n",
       "      <th>120060</th>\n",
       "      <td>5.999900e+01</td>\n",
       "      <td>4.996366</td>\n",
       "      <td>1.362864</td>\n",
       "      <td>NaN</td>\n",
       "    </tr>\n",
       "  </tbody>\n",
       "</table>\n",
       "<p>120061 rows × 4 columns</p>\n",
       "</div>"
      ],
      "text/plain": [
       "                Time   V(Vout)   V(Vled)  Unnamed: 3\n",
       "0       0.000000e+00  0.000000  0.000000         NaN\n",
       "1       1.000000e-18  0.000000  0.000000         NaN\n",
       "2       1.000000e-15  0.000000  0.000000         NaN\n",
       "3       1.001000e-15  4.995008  0.002995         NaN\n",
       "4       1.000000e-03  4.995008  0.002995         NaN\n",
       "...              ...       ...       ...         ...\n",
       "120056  5.999700e+01  4.996366  1.362864         NaN\n",
       "120057  5.999800e+01  4.996366  1.362864         NaN\n",
       "120058  5.999800e+01  4.996366  1.362864         NaN\n",
       "120059  5.999900e+01  4.996366  1.362864         NaN\n",
       "120060  5.999900e+01  4.996366  1.362864         NaN\n",
       "\n",
       "[120061 rows x 4 columns]"
      ]
     },
     "execution_count": 3,
     "metadata": {},
     "output_type": "execute_result"
    }
   ],
   "source": [
    "data_raw"
   ]
  },
  {
   "cell_type": "code",
   "execution_count": 4,
   "id": "75ea4c73-2e94-42ed-8815-6a65ffe2182b",
   "metadata": {},
   "outputs": [],
   "source": [
    "data = np.array(data_raw) "
   ]
  },
  {
   "cell_type": "code",
   "execution_count": 5,
   "id": "a1adcda0-9e6a-4998-b45e-a4c2c2f24a6b",
   "metadata": {},
   "outputs": [
    {
     "data": {
      "text/plain": [
       "(120061, 4)"
      ]
     },
     "execution_count": 5,
     "metadata": {},
     "output_type": "execute_result"
    }
   ],
   "source": [
    "data.shape"
   ]
  },
  {
   "cell_type": "code",
   "execution_count": 6,
   "id": "5d76bba4-a0b3-416e-a7ca-9266c03fffe6",
   "metadata": {},
   "outputs": [],
   "source": [
    "V_out = data[:,0]\n",
    "V_led = data[:,1]"
   ]
  },
  {
   "cell_type": "code",
   "execution_count": 10,
   "id": "83b56da8-a122-472e-99b8-30392aadab3f",
   "metadata": {},
   "outputs": [
    {
     "data": {
      "image/png": "[encoded data removed]",
      "text/plain": [
       "<Figure size 432x288 with 1 Axes>"
      ]
     },
     "metadata": {
      "needs_background": "light"
     },
     "output_type": "display_data"
    }
   ],
   "source": [
    "plt.plot(V_out, V_led, '--', lw=0.7)\n",
    "plt.xlabel(\"V(out)\")\n",
    "plt.ylabel(\"V(LED)\")\n",
    "#plt.axvline(tau, lw='0.6', ls='-', c=\"green\", label=\"tau\")\n",
    "#plt.axhline(V_tau, lw='0.6', c=\"blue\", label=\"V(tau)\")\n",
    "#plt.legend()\n",
    "plt.savefig(\"Images/LED.pdf\", bbox_inches='tight')\n",
    "plt.show()"
   ]
  },
  {
   "cell_type": "code",
   "execution_count": null,
   "id": "6cc4aa03-d3a3-4e10-a0a3-0c840f1fabd4",
   "metadata": {},
   "outputs": [],
   "source": []
  }
 ],
 "metadata": {
  "kernelspec": {
   "display_name": "Python 3 (ipykernel)",
   "language": "python",
   "name": "python3"
  },
  "language_info": {
   "codemirror_mode": {
    "name": "ipython",
    "version": 3
   },
   "file_extension": ".py",
   "mimetype": "text/x-python",
   "name": "python",
   "nbconvert_exporter": "python",
   "pygments_lexer": "ipython3",
   "version": "3.8.8"
  }
 },
 "nbformat": 4,
 "nbformat_minor": 5
}
