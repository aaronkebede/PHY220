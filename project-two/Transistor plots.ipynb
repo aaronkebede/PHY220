{
 "cells": [
  {
   "cell_type": "code",
   "execution_count": 1,
   "id": "47084e3b-18dd-46dc-a69f-f3d5e1b203a9",
   "metadata": {},
   "outputs": [],
   "source": [
    "#Import packages\n",
    "import math\n",
    "import numpy as np\n",
    "import pandas as pd\n",
    "from lmfit import Model, Parameters\n",
    "import matplotlib.pyplot as plt\n",
    "from lmfit import Model, Parameters\n",
    "import matplotlib.font_manager\n",
    "from matplotlib.pyplot import figure\n",
    "plt.rcParams.update({'font.size': 18})\n",
    "plt.rcParams.update({\n",
    "    \"text.usetex\": True,\n",
    "    \"font.weight\": \"bold\",\n",
    "    \"font.family\": \"serif\",\n",
    "    \"font.sans-serif\": [\"Helvetica\"]})"
   ]
  },
  {
   "cell_type": "code",
   "execution_count": 2,
   "id": "ee8e35dc-08ef-4735-8912-71192ad6cfd6",
   "metadata": {},
   "outputs": [],
   "source": [
    "Data_1   = pd.read_csv(\"Readings/Transistor/Vb_Data.csv\") \n",
    "Data_2   = pd.read_csv(\"Readings/Transistor/Vc_Data.csv\")"
   ]
  },
  {
   "cell_type": "code",
   "execution_count": 3,
   "id": "c275af92-b752-40a1-990d-44bc179b306f",
   "metadata": {},
   "outputs": [],
   "source": [
    "Data_1 = np.array(Data_1)\n",
    "Data_2 = np.array(Data_2)"
   ]
  },
  {
   "cell_type": "code",
   "execution_count": 4,
   "id": "5b506bf5-aae0-4d3e-a1f6-07a02ac6d239",
   "metadata": {},
   "outputs": [],
   "source": [
    "V_PWM_1 = Data_1[:,0]\n",
    "V_PWM_2 = Data_2[:,0]"
   ]
  },
  {
   "cell_type": "code",
   "execution_count": 5,
   "id": "c88477b4-ecce-48e1-b449-0362c0ed637d",
   "metadata": {},
   "outputs": [],
   "source": [
    "V_b = Data_1[:,1]\n",
    "V_c = Data_2[:,1]"
   ]
  },
  {
   "cell_type": "code",
   "execution_count": 9,
   "id": "8bf8070a-1a95-4082-b84d-2b11d5407f92",
   "metadata": {},
   "outputs": [
    {
     "data": {
      "image/png": "[encoded data removed]",
      "text/plain": [
       "<Figure size 432x288 with 1 Axes>"
      ]
     },
     "metadata": {
      "needs_background": "light"
     },
     "output_type": "display_data"
    }
   ],
   "source": [
    "plt.plot(V_PWM_1, V_b, '.')\n",
    "plt.xlabel(\"Output Voltage(V)\")\n",
    "plt.ylabel(\"Base Voltage(V)\")\n",
    "#plt.axvline(tau, lw='0.6', ls='-', c=\"green\", label=\"tau\")\n",
    "#plt.axhline(V_tau, lw='0.6', c=\"blue\", label=\"V(tau)\")\n",
    "#plt.legend()\n",
    "plt.grid()\n",
    "plt.savefig(\"Images/V_Transistor_PWM_Base.pdf\", bbox_inches='tight')\n",
    "plt.show()"
   ]
  },
  {
   "cell_type": "code",
   "execution_count": 18,
   "id": "27887ed7-938b-40a8-a12d-0e96f542424b",
   "metadata": {},
   "outputs": [
    {
     "data": {
      "text/plain": [
       "[<matplotlib.lines.Line2D at 0x7f663a957d00>]"
      ]
     },
     "execution_count": 18,
     "metadata": {},
     "output_type": "execute_result"
    },
    {
     "data": {
      "image/png": "[encoded data removed]",
      "text/plain": [
       "<Figure size 432x288 with 1 Axes>"
      ]
     },
     "metadata": {
      "needs_background": "light"
     },
     "output_type": "display_data"
    }
   ],
   "source": [
    "plt.plot(V_PWM_1, V_c, '.')\n",
    "plt.xlabel(\"Output Voltage(V)\")\n",
    "plt.ylabel(\"Collector Voltage(V)\")\n",
    "#plt.axvline(tau, lw='0.6', ls='-', c=\"green\", label=\"tau\")\n",
    "#plt.axhline(V_tau, lw='0.6', c=\"blue\", label=\"V(tau)\")\n",
    "#plt.legend()\n",
    "plt.grid()\n",
    "plt.savefig(\"Images/V_Transistor_PWM_Collector.pdf\", bbox_inches='tight')\n",
    "plt.show()"
   ]
  },
  {
   "cell_type": "code",
   "execution_count": null,
   "id": "fe5523a3-a2ca-4bc7-bf08-d19c12e84698",
   "metadata": {},
   "outputs": [],
   "source": []
  }
 ],
 "metadata": {
  "kernelspec": {
   "display_name": "Python 3 (ipykernel)",
   "language": "python",
   "name": "python3"
  },
  "language_info": {
   "codemirror_mode": {
    "name": "ipython",
    "version": 3
   },
   "file_extension": ".py",
   "mimetype": "text/x-python",
   "name": "python",
   "nbconvert_exporter": "python",
   "pygments_lexer": "ipython3",
   "version": "3.8.8"
  }
 },
 "nbformat": 4,
 "nbformat_minor": 5
}
